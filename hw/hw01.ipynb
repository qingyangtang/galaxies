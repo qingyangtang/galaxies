{
 "cells": [
  {
   "cell_type": "markdown",
   "metadata": {},
   "source": [
    "## Astro 304 \"Galaxies\""
   ]
  },
  {
   "cell_type": "markdown",
   "metadata": {},
   "source": [
    "### Homework 1 (due Tuesday, Apr 12, 5pm)"
   ]
  },
  {
   "cell_type": "markdown",
   "metadata": {},
   "source": [
    "35 points (+10 points extra credit)"
   ]
  },
  {
   "cell_type": "markdown",
   "metadata": {},
   "source": [
    "I should make your homework available to me by the due date/time as an IPython (Jupyter) notebook via a github repository. I encourage you to discuss your work with others, but actual calculations and plots should be your own. "
   ]
  },
  {
   "cell_type": "markdown",
   "metadata": {},
   "source": [
    "1. (5 points) <i>Milky Way analogues.</i> Select nine (or more) images of randomly drawn galaxies nearest to the Milky Way in half-light radius, $M_r$, and $g-r$ color (see values in the next two exercises) and output their images in a collage, as was shown in the notebooks that you've used. The best results will be obtained if you limit the galaxy sample from which you draw to within a maximum distance of $\\sim 100-200$ Mpc; you may also play with other restrictions on the sample to optimize your results. Examine images of these objects that could ostensibly be considered as the Milky Way analogues and describe their morphology. Briefly discuss any similarities and differences that you notice between different galaxies. How close are the selected galaxies to the Milky Way morphology, which you can see in Figures 4-14 of <a href=\"http://adsabs.harvard.edu/abs/2011ARep...55..108E\">Efremov (2011).</a>  \n",
    "Can you improve the match of morphology by selecting analogues using a different combination of galaxy parameters, given what you learned from the classification exercise in class on Thursday (see <a href=\"https://github.com/a-kravtsov/a304s16/blob/master/ex02.ipynb\"><tt>ex02.ipynb</tt></a>)?\n",
    "Select your favorite collage of the Milky Way analogues that matches the Milky Way morphology best and present it as part of your solutions to this exercise along with discussion of which parameters work best for this. \n",
    "<br><br>\n",
    "\n",
    "2. (7 points) <i>Surface brightness of the Milky Way.</i> The Milky Way half-light radius is $R_{50,\\rm MW}\\approx 4.0\\pm 0.5\\ \\mathrm{kpc}$. For example, <a href=\"http://adsabs.harvard.edu/abs/2013ApJ...779..115B\">Bovy & Rix (2013)</a> estimate the scale length of the Milky Way disk to be $R_{d,\\rm MW}=2.15\\pm 0.14$ kpc, while <a href=\"http://mnras.oxfordjournals.org/content/414/3/2446\">McMillan (2011)</a> estimates $R_{d,\\rm MW}\\approx 3.1\\pm 0.3$ kpc and half-light radius for the exponential disk is $r_{50}\\approx 1.68R_d$). Absolute $r$-band luminosity of the Milky Way is estimated to be $M_{r,\\rm MW}-5\\log_{10}h=-21.00\\pm 0.38$ (<a href=\"http://adsabs.harvard.edu/abs/2015ApJ...809...96L\">Licquia et al. 2015</a>). Compute the $r$-band surface brightness of the Milky Way within $r_{50}$ in magnitudes per square arcsecond, as it would be seen by an extragalactic observer (and show how you did it in intermediate steps). \n",
    "<br><br>\n",
    "\n",
    "3. (8 points). <i>Milky Way's place in the realm of galaxies.</i> (a) Use the script that produced $g-r$ vs $M_r$, $(g-r)-c_r$, $\\mu_r-M_r$ for the entire galaxy sample in <tt>ex02.ipynb</tt> as an example to make your own similar plot. Add the point with error bars for the Milky Way to these diagrams: $(g-r)$ color of the Milky Way is estimated to be $(g-r)_{\\mathrm{MW}}=0.682^{+0.066}_{-0.056}$, while $M_r$ is given in the previous exercise (<a href=\"http://adsabs.harvard.edu/abs/2015ApJ...809...96L\">Licquia et al. 2015</a>). You have to figure out how to compute $c_r$ given the information given above.  Discuss location of the Milky Way relative to the other galaxies in the diagrams. (5 points)<br> \n",
    "(b) Does appearance of galaxies in exercise 1 above change significantly, if you add the light concentration, $c_r$, as an additional constraint to select Milky Way analogues? What if you use it instead of one of the quantities used in 1: $M_r$, $g-r$, or $r_{50}$? (3 points)\n",
    "<br><br>\n",
    "\n",
    "4. (15 points + 10 extra credit). <i>Luminosity functions of galaxies as a function of morphological type.</i><br> (a) Use example in <tt>ex02.ipynb</tt> that shows how to estimate galaxy luminosity function of the SDSS galaxies using the $1/V_{\\rm max}$ method to calculate and plot luminosity functions of galaxies of 4 different morphological types - Ell, S0, Sab, Scd - using the Sersic model luminosities and morphological class probabilities from the <a href=\"http://adsabs.harvard.edu/abs/2015MNRAS.446.3943M\">Meert et al. (2015)</a> catalog. Plot the LFs for individual morphological classes along with the LF for the entire galaxy sample. Discuss luminosity distributions of galaxies of different morphologies and how they differ from each other. What are the most salient trends? (10 points)<br> \n",
    "(b) Use the image thumbnail tools you now have to look at the appearance of galaxies in different luminosity bins. Present rows of randomly selected $\\sim 10$ galaxy images in luminosity bins of increasing luminosity. (5 points)\n",
    "<br>\n",
    "(c) <b>Extra credit</b>. Estimate and plot LFs separately for the low surface brightness galaxies with $\\mu_r>22.5\\ \\mathrm{dex^{-1}\\, Mpc^{-3}}$. How does the luminosity function of the low surface brightness (LSB) galaxies look like? What is its shape? At what luminosities do you expect such LSB galaxies to dominate the numbers? What do these results imply for the shape of luminosity function at luminosities characteristic of dwarf galaxies? Plot a collage of images of galaxies of this type at different luminosities, using script similar to that above. (5 points).\n",
    "<br>\n",
    "(d) <b>Extra credit</b>. Estimate luminosity function of all galaxies in a magnitude-limited sample (i.e., without splitting by properties) in the region around the SDSS Great Wall that was discussed in class, where large-scale structures are particularly prominent. Use the Sersic magnitudes from the Meert et al. catalog to compare to the results for the entire survey shown in  <a href=\"https://github.com/a-kravtsov/a304s16/blob/master/ex02.ipynb\"><tt>ex02.ipynb</tt></a>. The SDSS Great Wall region is roughly in the redshift interval $0.06<z<0.12$ and DEC range of $-10<\\delta<20$. Derive the best-fit Schechter function parameters for the estimated LF and compare them to the parameters of the overall function for the entire survey. Do you find any differences? This type of study is referred to as studies of environmental dependencies of galaxy properties. (5 points)\n",
    "<br><br>"
   ]
  },
  {
   "cell_type": "code",
   "execution_count": null,
   "metadata": {
    "collapsed": true
   },
   "outputs": [],
   "source": []
  }
 ],
 "metadata": {
  "kernelspec": {
   "display_name": "Python 2",
   "language": "python",
   "name": "python2"
  },
  "language_info": {
   "codemirror_mode": {
    "name": "ipython",
    "version": 2
   },
   "file_extension": ".py",
   "mimetype": "text/x-python",
   "name": "python",
   "nbconvert_exporter": "python",
   "pygments_lexer": "ipython2",
   "version": "2.7.10"
  }
 },
 "nbformat": 4,
 "nbformat_minor": 0
}
