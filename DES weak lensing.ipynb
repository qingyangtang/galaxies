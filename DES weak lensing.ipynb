{
 "cells": [
  {
   "cell_type": "code",
   "execution_count": 25,
   "metadata": {
    "collapsed": false,
    "scrolled": false
   },
   "outputs": [],
   "source": [
    "import pandas\n",
    "from scipy.spatial import cKDTree\n",
    "import numpy as np\n",
    "import sys\n",
    "import pyfits\n",
    "import argparse\n",
    "import datetime\n",
    "import time\n",
    "from scipy.interpolate import interp1d\n",
    "\n",
    "# sys.path.append(\"/Users/surhud/aum/aum/install/lib/python2.7/site-packages/\")\n",
    "\n",
    "%matplotlib inline\n",
    "\n",
    "import pylab as pl\n",
    "import palettable\n",
    "colors = palettable.colorbrewer.qualitative.Dark2_8.mpl_colors"
   ]
  },
  {
   "cell_type": "code",
   "execution_count": 28,
   "metadata": {
    "collapsed": false
   },
   "outputs": [],
   "source": [
    "def getweaklensing_signal(rmin=0.1, rmax=80.0, rbin=15, pairout=\"debug_deltasigma.out\", \n",
    "                          zminclus=0.40, zmaxclus=0.75, lamdamin=20.0, lamdamax=1000.0, shape=0, deltaz=0.2):\n",
    "\n",
    "    logrmax = np.log10(rmax)\n",
    "    logrmin = np.log10(rmin)\n",
    "    logrdiff = (logrmax-logrmin)/rbin\n",
    "\n",
    "    # Delta Sigma_tangential\n",
    "    dsig_sum = np.zeros(rbin)\n",
    "    # Delta Sigma_cross\n",
    "    dsigcross_sum = np.zeros(rbin)\n",
    "    # Lens source weight sum\n",
    "    wls_sum = np.zeros(rbin)\n",
    "    # Lens source weighting with the multiplicative bias factor sum\n",
    "    wls_ms_sum = np.zeros(rbin)\n",
    "    # The next term is for the boost factor correction\n",
    "    dcount_sum = np.zeros(rbin)\n",
    "\n",
    "    try:\n",
    "        import cosmology as cc\n",
    "        # Only important parameter here is Omega0, OmegaK, w0 and wa\n",
    "        # Rest are unimportant but are: Omegab, hval, theta, sigma8, ns, ignore the rest\n",
    "        Omega0 = 0.27\n",
    "        OmegaK = 0.0\n",
    "        w0 = -1.0\n",
    "        wa = 0.0\n",
    "        cosmo = cc.cosmology(Omega0, OmegaK, w0, wa, 0.0476, 0.7, 2.726, 0.8, 0.96, np.log10(8.0), 1.0)\n",
    "    except:\n",
    "        print \"Could not import cosmology from aum, trying colossus instead\"\n",
    "        from colossus.cosmology import cosmology\n",
    "        cosmo = cosmology.setCosmology('WMAP9')\n",
    "    \n",
    "    from code.setup import data_home_dir\n",
    "    hdulist = pyfits.open(data_home_dir()+\"des/redmapper_sva1_public_v6.3_catalog.fits\")\n",
    "    data = hdulist[1].data\n",
    "    ra = data[\"ra\"]\n",
    "    dec = data[\"dec\"]\n",
    "    zred = data[\"z_lambda\"].astype(\"float64\")\n",
    "    lamda = data[\"lambda\"]\n",
    "    wt = ra/ra\n",
    "\n",
    "    # Filter the cluster catalog by zmin, zmax, lammin, lammax -- To be done\n",
    "    idx = (zred>=zminclus) & (zred<=zmaxclus) & (lamda>=lamdamin) & (lamda<=lamdamax)\n",
    "    ra = ra[idx]\n",
    "    dec = dec[idx]\n",
    "    zred = zred[idx]\n",
    "    print \"The number of clusters used are \", np.sum(idx), \" from a total of \", idx.size\n",
    "\n",
    "    # Convert to radians\n",
    "    ra = ra * np.pi / 180.\n",
    "    dec = dec * np.pi / 180.\n",
    "\n",
    "    # cos(ra_lens), sin(ra_lens), sin(dec_lens), cos(dec_lens)\n",
    "    c_lra=np.cos(ra)\n",
    "    s_lra=np.sin(ra)\n",
    "    s_ldec=np.sin(dec)\n",
    "    c_ldec=np.cos(dec)\n",
    "\n",
    "    # Unit vectors\n",
    "    xx = c_ldec*c_lra\n",
    "    yy = c_ldec*s_lra\n",
    "    zz = s_ldec\n",
    "\n",
    "    # For every zred compute the Comoving distance in hinv Mpc\n",
    "    dCofzl = zred * 0.0\n",
    "    \n",
    "    for i in range(zred.size):\n",
    "        try:\n",
    "            dCofzl[i] = cosmo.Dcofz(zred[i])\n",
    "        except:\n",
    "            dCofzl[i] = cosmo.comovingDistance(0.0, zred[i])/cosmo.h\n",
    "    \n",
    "    #dCofzs = cosmo.comovingDistance(0.0, zred)/cosmo.h\n",
    "    \n",
    "    # The shape catalog has been written out as an ascii file to get serial access\n",
    "    # Download from http://member.ipmu.jp/surhud.more/downloads/desdata.tgz\n",
    "    if shape==0:\n",
    "        dfchunks = pandas.read_csv(data_home_dir()+\"des/sva1_gold_r1.1_im3shape_corr_flagged.dat\", delim_whitespace=1, header=None, names=([\"ra\", \"dec\", \"e_1corr\", \"e_2corr\", \"nbc_m\", \"w\", \"mean_photoz\"]), chunksize=1000000)\n",
    "    else:\n",
    "        # Here nbc_m is actually sens_avg\n",
    "        dfchunks = pandas.read_csv(data_home_dir()+\"des/sva1_gold_r1.0_ngmix_corr_flagged.dat\", delim_whitespace=1, header=None, names=([\"ra\", \"dec\", \"e_1corr\", \"e_2corr\", \"nbc_m\", \"w\", \"mean_photoz\"]), chunksize=1000000)\n",
    "\n",
    "    itern=0\n",
    "    for df in dfchunks:\n",
    "        itern=itern+1\n",
    "        tstamp = datetime.datetime.fromtimestamp(time.time()).strftime('%Y-%m-%d %H:%M:%S')\n",
    "        sys.stderr.write(\"\\n Processing chunk %d of the source file: %s\\n\"%(itern, tstamp))\n",
    "\n",
    "        ragal  = df.ra.values * np.pi/180.0\n",
    "        decgal = df.dec.values * np.pi/180.0\n",
    "        zphotgal = df.mean_photoz.values\n",
    "        e1gal = df.e_1corr.values\n",
    "        e2gal = df.e_2corr.values\n",
    "        if shape==0:\n",
    "            mgal = df.nbc_m.values + 1.0\n",
    "        else:\n",
    "            mgal = df.nbc_m.values\n",
    "        wgal = df.w.values\n",
    "\n",
    "        dCofzs = zphotgal * 0.0\n",
    "        \n",
    "        for i in range(zphotgal.size):\n",
    "            try:\n",
    "                dCofzs[i] = cosmo.Dcofz(zphotgal[i])\n",
    "            except:\n",
    "                dCofzs[i] = cosmo.comovingDistance(0.0, zphotgal[i])/cosmo.h\n",
    "        \n",
    "        #dCofzs = cosmo.comovingDistance(0.0, zphotgal)/cosmo.h\n",
    "        # Sigc_inv = 4piG/c^2 dL dLS/dS (1+zl)**2\n",
    "        # First factor = 4piG/c^2 / dS\n",
    "        gee = 4.3022682e-9\n",
    "        cee = 299792.458\n",
    "        sigc_inv_fac=1e12*4*np.pi*gee/(cee*cee)*(1+zphotgal)/dCofzs\n",
    "\n",
    "        # cos(ra_source), sin(ra_source), sin(dec_source), cos(dec_source)\n",
    "        c_sra=np.cos(ragal)\n",
    "        s_sra=np.sin(ragal)\n",
    "        s_sdec=np.sin(decgal)\n",
    "        c_sdec=np.cos(decgal)\n",
    "\n",
    "        xxgal = c_sdec*c_sra\n",
    "        yygal = c_sdec*s_sra\n",
    "        zzgal = s_sdec\n",
    "\n",
    "        tree = cKDTree(zip(xxgal, yygal, zzgal))\n",
    "\n",
    "        # For every galaxy cluster, query the sources around it\n",
    "        import frogress\n",
    "        for i in frogress.bar(range(ra.size)):\n",
    "#        for i in range(ra.size):\n",
    "#            if i%50 == 0:\n",
    "#                print \"working on cluster %d\"%i\n",
    "            ind = tree.query_ball_point([xx[i], yy[i], zz[i]], rmax/(dCofzl[i]))\n",
    "            if len(ind)==0:\n",
    "                continue\n",
    "            else:\n",
    "                pass\n",
    "\n",
    "            if np.isscalar(ind):\n",
    "                ind = [ind]\n",
    "            ind = np.array(ind)\n",
    "            # print \"1:\", ind\n",
    "\n",
    "            # zphot should be larger than the lens redshift plus deltaz\n",
    "            idx = (zphotgal[ind]>zred[i]+deltaz)\n",
    "            ind = ind[idx]\n",
    "            # Now compute the cos(angle)\n",
    "            cosang = xx[i]*xxgal[ind] + yy[i]*yygal[ind] + zz[i]*zzgal[ind]\n",
    "            # Comoving projected distance\n",
    "            Rp = dCofzl[i] * np.arccos(cosang)\n",
    "            idx = (Rp>rmin)&(Rp<rmax)\n",
    "\n",
    "            # Now compute the bearing angles\n",
    "            cos_alps_alpl=c_sra[ind][idx]*c_lra[i]+s_sra[ind][idx]*s_lra[i];\n",
    "            sin_alps_alpl=s_sra[ind][idx]*c_lra[i]-c_sra[ind][idx]*s_lra[i];\n",
    "\n",
    "            cosangle = cosang[idx]\n",
    "            sinangle=np.sqrt(1-cosangle*cosangle);\n",
    "            cosphi=c_ldec[i]*sin_alps_alpl/sinangle;\n",
    "            sinphi=(-s_ldec[i]*c_sdec[ind][idx]+c_ldec[i]*s_sdec[ind][idx]*cos_alps_alpl)/sinangle;\n",
    "            etan=-e1gal[ind][idx]*(2*cosphi*cosphi-1)+e2gal[ind][idx]*(2*sinphi*cosphi);\n",
    "            ecross=e1gal[ind][idx]*(2*sinphi*cosphi)+e2gal[ind][idx]*(2*cosphi*cosphi-1);\n",
    "\n",
    "            # Sigc_inv = 4piG/c^2 dL dLS/dS (1+zl)**2\n",
    "            # First factor = 4piG/c^2 / dS\n",
    "            # This is the second factor = dL dLS (1+zl)**2\n",
    "            sigc_inv = sigc_inv_fac[ind][idx]*dCofzl[i]*(dCofzs[ind][idx]-dCofzl[i])/(1.+zphotgal[ind][idx])*(1+zred[i])\n",
    "\n",
    "            # Now compute the weights\n",
    "            wls = wgal[ind][idx]*wt[i]*pow(sigc_inv,2)\n",
    "            oneplusmcorr = (mgal[ind][idx])\n",
    "\n",
    "            # print \"4:\", Rp[idx]\n",
    "            Rp = Rp[idx]\n",
    "\n",
    "            # Finalize bins and all arrays\n",
    "            logRp = np.log10(Rp)\n",
    "            ibin = np.floor((logRp-logrmin)/logrdiff).astype(int)\n",
    "            idx = (ibin>=0)&(ibin<rbin)\n",
    "            ibin = ibin[idx]\n",
    "            etan = etan[idx]\n",
    "            ecross = ecross[idx]\n",
    "            wls = wls[idx]\n",
    "            sigc_inv = sigc_inv[idx]\n",
    "            oneplusmcorr = oneplusmcorr[idx]\n",
    "            for j in range(ibin.size):\n",
    "                dsig_sum[ibin[j]] += (etan[j]*wls[j]/sigc_inv[j])\n",
    "                dcount_sum[ibin[j]] += wt[i]\n",
    "                dsigcross_sum[ibin[j]] += (ecross[j]*wls[j]/sigc_inv[j])\n",
    "                wls_sum[ibin[j]] += (wls[j])\n",
    "                wls_ms_sum[ibin[j]] += (wls[j]*oneplusmcorr[j])\n",
    "\n",
    "    rpmin = 10.0**(logrmin+logrdiff*np.arange(rbin))\n",
    "    rpmax = 10.0**(logrmin+logrdiff*(1+np.arange(rbin)))\n",
    "    np.savetxt(pairout, np.transpose([logrmin+logrdiff*(0.5+np.arange(rbin)), \n",
    "                                      dsig_sum, wls_sum, wls_ms_sum, dsig_sum/wls_ms_sum, \n",
    "                                      wls_sum/np.sum(wt), rpmin/2.+rpmax/2., dsigcross_sum/wls_ms_sum, \n",
    "                                      dcount_sum/np.sum(wt)]), \n",
    "               header=\" deltaz: %.3f   rmax: %.3f rmin: %.3f rbins: %.3f pairout: %s zminclus: %.3f zmaxclus: %.3f lamdamin: %.3f lamdamax: %.3f shape: %d \\n log    (r), dSigma_sum, wls_sum, wls_ms_sum, Delta Sigma, Boost factor term, Average r, Delta Sigma cross\" % (deltaz, rmax, rmin, rbin, pairout, zminclus, zmaxclus, lamdamin, lamdamax, shape))\n",
    "    return rpmin/2+rpmax/2, dsig_sum/wls_ms_sum, dsigcross_sum/wls_ms_sum"
   ]
  },
  {
   "cell_type": "code",
   "execution_count": 29,
   "metadata": {
    "collapsed": false,
    "scrolled": false
   },
   "outputs": [
    {
     "name": "stdout",
     "output_type": "stream",
     "text": [
      "Could not import cosmology from aum, trying colossus instead\n",
      "The number of clusters used are  493  from a total of  787\n",
      "100.0% | [##########] | Progress: 493 / 493 | Time: 1min20s | ETA: --"
     ]
    },
    {
     "name": "stderr",
     "output_type": "stream",
     "text": [
      "\n",
      " Processing chunk 1 of the source file: 2016-04-11 00:17:44\n",
      "\n",
      " Processing chunk 2 of the source file: 2016-04-11 00:20:15\n"
     ]
    },
    {
     "name": "stdout",
     "output_type": "stream",
     "text": [
      "100.0% | [##########] | Progress: 493 / 493 | Time: 3.2s | ETA: --"
     ]
    },
    {
     "name": "stderr",
     "output_type": "stream",
     "text": [
      "\n",
      " Processing chunk 3 of the source file: 2016-04-11 00:22:19\n"
     ]
    }
   ],
   "source": [
    "rp, deltasigma, deltacross = getweaklensing_signal()"
   ]
  },
  {
   "cell_type": "code",
   "execution_count": 24,
   "metadata": {
    "collapsed": false
   },
   "outputs": [
    {
     "data": {
      "text/plain": [
       "<matplotlib.legend.Legend at 0x13eb0438>"
      ]
     },
     "execution_count": 24,
     "metadata": {},
     "output_type": "execute_result"
    },
    {
     "data": {
      "image/png": "[encoded data removed]",
      "text/plain": [
       "<matplotlib.figure.Figure at 0x3452fe10>"
      ]
     },
     "metadata": {},
     "output_type": "display_data"
    }
   ],
   "source": [
    "fig, ax = pl.subplots(figsize=(5,5))\n",
    "ax.set_xlim(np.min(rp*0.8), np.max(rp*1.2))\n",
    "ax.set_ylim(np.min(deltasigma*0.8), np.max(deltasigma*1.2))\n",
    "ax.set_yscale(\"log\"); ax.set_xscale(\"log\")\n",
    "ax.scatter(rp, deltasigma, color=colors[0], s=9, marker=\".\", label=r\"$\\Delta \\Sigma$\")\n",
    "ax.set_xlabel(r\"$R$ ($h^{-1}$Mpc)\")\n",
    "ax.set_ylabel(r\"$\\Delta\\Sigma$ ($h M_\\odot$pc$^{-2}$)\")\n",
    "ax.legend(loc=1, frameon=0)\n",
    "# pl.savefig(\"Test.pdf\")"
   ]
  },
  {
   "cell_type": "code",
   "execution_count": 22,
   "metadata": {
    "collapsed": false
   },
   "outputs": [
    {
     "name": "stdout",
     "output_type": "stream",
     "text": [
      "[  56.19855101  108.64426941   79.20553501   37.284788     30.10212335\n",
      "   22.37685756   15.34565027    8.81625177    7.57125004    3.03447911\n",
      "    2.23007298    1.02013426    1.06678235    0.68964962    0.67153341]\n"
     ]
    }
   ],
   "source": [
    "print deltasigma"
   ]
  },
  {
   "cell_type": "code",
   "execution_count": null,
   "metadata": {
    "collapsed": true
   },
   "outputs": [],
   "source": []
  }
 ],
 "metadata": {
  "kernelspec": {
   "display_name": "Python 2",
   "language": "python",
   "name": "python2"
  },
  "language_info": {
   "codemirror_mode": {
    "name": "ipython",
    "version": 2
   },
   "file_extension": ".py",
   "mimetype": "text/x-python",
   "name": "python",
   "nbconvert_exporter": "python",
   "pygments_lexer": "ipython2",
   "version": "2.7.10"
  }
 },
 "nbformat": 4,
 "nbformat_minor": 0
}
